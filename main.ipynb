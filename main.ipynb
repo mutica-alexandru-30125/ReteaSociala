{
 "cells": [
  {
   "cell_type": "markdown",
   "source": [
    "## Interfata pentru noduri si muchii"
   ],
   "metadata": {
    "collapsed": false
   },
   "id": "74676e159710508e"
  },
  {
   "cell_type": "code",
   "execution_count": 4,
   "id": "initial_id",
   "metadata": {
    "collapsed": true,
    "ExecuteTime": {
     "end_time": "2025-10-15T11:34:38.608198Z",
     "start_time": "2025-10-15T11:34:38.568877Z"
    }
   },
   "outputs": [
    {
     "data": {
      "text/plain": "VBox(children=(HBox(children=(Text(value='', description='Număr noduri:'), Button(button_style='success', desc…",
      "application/vnd.jupyter.widget-view+json": {
       "version_major": 2,
       "version_minor": 0,
       "model_id": "9a66c5e926c74a339631651c410ef975"
      }
     },
     "metadata": {},
     "output_type": "display_data"
    }
   ],
   "source": [
    "import networkx as nx\n",
    "import matplotlib.pyplot as plt\n",
    "from ipywidgets import Button, Text, VBox, HBox, Output, Label\n",
    "from IPython.display import display\n",
    "\n",
    "# ====== Modelul de rețea ======\n",
    "G = nx.Graph()\n",
    "out = Output()\n",
    "\n",
    "# ====== Elemente interfață ======\n",
    "nodes_input = Text(description=\"Număr noduri:\")\n",
    "generate_btn = Button(description=\"Generează noduri\", button_style='success')\n",
    "node_label = Label(value=\"Noduri create: 0\")\n",
    "\n",
    "node1_input = Text(description=\"Nod 1:\")\n",
    "node2_input = Text(description=\"Nod 2:\")\n",
    "add_edge_btn = Button(description=\"Adaugă legătură\", button_style='info')\n",
    "\n",
    "clear_btn = Button(description=\"Resetează graful\", button_style='danger')\n",
    "\n",
    "# ====== Funcții ======\n",
    "def draw_graph():\n",
    "    plt.figure(figsize=(8, 6))\n",
    "    pos = nx.spring_layout(G, k=1.5, iterations=200, seed=42)  # mai mult spațiu și mai multe iterații\n",
    "    nx.draw(\n",
    "        G, pos,\n",
    "        with_labels=True,\n",
    "        node_color=\"skyblue\",\n",
    "        node_size=1000,\n",
    "        font_weight='bold',\n",
    "        edge_color=\"gray\",\n",
    "        linewidths=1.5\n",
    "    )\n",
    "    plt.axis('off')\n",
    "    plt.tight_layout()\n",
    "    plt.show()\n",
    "\n",
    "def on_generate_nodes_clicked(b):\n",
    "    try:\n",
    "        num_nodes = int(nodes_input.value)\n",
    "        if num_nodes <= 0:\n",
    "            raise ValueError\n",
    "        G.clear()\n",
    "        for i in range(1, num_nodes + 1):\n",
    "            G.add_node(i)\n",
    "        node_label.value = f\"Noduri create: {num_nodes}\"\n",
    "        with out:\n",
    "            out.clear_output()\n",
    "            print(f\"{num_nodes} noduri generate: {list(G.nodes)}\")\n",
    "            draw_graph()\n",
    "    except ValueError:\n",
    "        with out:\n",
    "            out.clear_output()\n",
    "            print(\"⚠️ Introdu un număr valid și pozitiv de noduri.\")\n",
    "\n",
    "def on_add_edge_clicked(b):\n",
    "    try:\n",
    "        n1 = int(node1_input.value)\n",
    "        n2 = int(node2_input.value)\n",
    "        if n1 in G.nodes and n2 in G.nodes:\n",
    "            G.add_edge(n1, n2)\n",
    "            with out:\n",
    "                out.clear_output()\n",
    "                print(f\"Legătură adăugată între nodurile {n1} și {n2}.\")\n",
    "                draw_graph()\n",
    "        else:\n",
    "            with out:\n",
    "                out.clear_output()\n",
    "                print(\"⚠️ Unul dintre noduri nu există.\")\n",
    "    except ValueError:\n",
    "        with out:\n",
    "            out.clear_output()\n",
    "            print(\"⚠️ Introdu numere valide pentru noduri.\")\n",
    "\n",
    "def on_clear_clicked(b):\n",
    "    G.clear()\n",
    "    node_label.value = \"Noduri create: 0\"\n",
    "    with out:\n",
    "        out.clear_output()\n",
    "        print(\"Graful a fost resetat.\")\n",
    "        draw_graph()\n",
    "\n",
    "# ====== Legare evenimente ======\n",
    "generate_btn.on_click(on_generate_nodes_clicked)\n",
    "add_edge_btn.on_click(on_add_edge_clicked)\n",
    "clear_btn.on_click(on_clear_clicked)\n",
    "\n",
    "# ====== Layout ======\n",
    "ui = VBox([\n",
    "    HBox([nodes_input, generate_btn]),\n",
    "    node_label,\n",
    "    HBox([node1_input, node2_input, add_edge_btn]),\n",
    "    clear_btn,\n",
    "    out\n",
    "])\n",
    "\n",
    "display(ui)\n"
   ]
  },
  {
   "cell_type": "code",
   "outputs": [
    {
     "name": "stdout",
     "output_type": "stream",
     "text": [
      "grafic_interactiv.html\n"
     ]
    },
    {
     "ename": "AttributeError",
     "evalue": "'NoneType' object has no attribute 'render'",
     "output_type": "error",
     "traceback": [
      "\u001B[31m---------------------------------------------------------------------------\u001B[39m",
      "\u001B[31mAttributeError\u001B[39m                            Traceback (most recent call last)",
      "\u001B[36mCell\u001B[39m\u001B[36m \u001B[39m\u001B[32mIn[5]\u001B[39m\u001B[32m, line 19\u001B[39m\n\u001B[32m     16\u001B[39m net.toggle_physics(\u001B[38;5;28;01mTrue\u001B[39;00m)\n\u001B[32m     18\u001B[39m \u001B[38;5;66;03m# Exportă și deschide în browser\u001B[39;00m\n\u001B[32m---> \u001B[39m\u001B[32m19\u001B[39m \u001B[43mnet\u001B[49m\u001B[43m.\u001B[49m\u001B[43mshow\u001B[49m\u001B[43m(\u001B[49m\u001B[33;43m\"\u001B[39;49m\u001B[33;43mgrafic_interactiv.html\u001B[39;49m\u001B[33;43m\"\u001B[39;49m\u001B[43m)\u001B[49m\n",
      "\u001B[36mFile \u001B[39m\u001B[32m~\\PycharmProjects\\ReteaSociala\\.venv\\Lib\\site-packages\\pyvis\\network.py:546\u001B[39m, in \u001B[36mNetwork.show\u001B[39m\u001B[34m(self, name, local, notebook)\u001B[39m\n\u001B[32m    544\u001B[39m \u001B[38;5;28mprint\u001B[39m(name)\n\u001B[32m    545\u001B[39m \u001B[38;5;28;01mif\u001B[39;00m notebook:\n\u001B[32m--> \u001B[39m\u001B[32m546\u001B[39m     \u001B[38;5;28;43mself\u001B[39;49m\u001B[43m.\u001B[49m\u001B[43mwrite_html\u001B[49m\u001B[43m(\u001B[49m\u001B[43mname\u001B[49m\u001B[43m,\u001B[49m\u001B[43m \u001B[49m\u001B[43mopen_browser\u001B[49m\u001B[43m=\u001B[49m\u001B[38;5;28;43;01mFalse\u001B[39;49;00m\u001B[43m,\u001B[49m\u001B[43mnotebook\u001B[49m\u001B[43m=\u001B[49m\u001B[38;5;28;43;01mTrue\u001B[39;49;00m\u001B[43m)\u001B[49m\n\u001B[32m    547\u001B[39m \u001B[38;5;28;01melse\u001B[39;00m:\n\u001B[32m    548\u001B[39m     \u001B[38;5;28mself\u001B[39m.write_html(name, open_browser=\u001B[38;5;28;01mTrue\u001B[39;00m)\n",
      "\u001B[36mFile \u001B[39m\u001B[32m~\\PycharmProjects\\ReteaSociala\\.venv\\Lib\\site-packages\\pyvis\\network.py:515\u001B[39m, in \u001B[36mNetwork.write_html\u001B[39m\u001B[34m(self, name, local, notebook, open_browser)\u001B[39m\n\u001B[32m    513\u001B[39m getcwd_name = name\n\u001B[32m    514\u001B[39m check_html(getcwd_name)\n\u001B[32m--> \u001B[39m\u001B[32m515\u001B[39m \u001B[38;5;28mself\u001B[39m.html = \u001B[38;5;28;43mself\u001B[39;49m\u001B[43m.\u001B[49m\u001B[43mgenerate_html\u001B[49m\u001B[43m(\u001B[49m\u001B[43mnotebook\u001B[49m\u001B[43m=\u001B[49m\u001B[43mnotebook\u001B[49m\u001B[43m)\u001B[49m\n\u001B[32m    517\u001B[39m \u001B[38;5;28;01mif\u001B[39;00m \u001B[38;5;28mself\u001B[39m.cdn_resources == \u001B[33m\"\u001B[39m\u001B[33mlocal\u001B[39m\u001B[33m\"\u001B[39m:\n\u001B[32m    518\u001B[39m     \u001B[38;5;28;01mif\u001B[39;00m \u001B[38;5;129;01mnot\u001B[39;00m os.path.exists(\u001B[33m\"\u001B[39m\u001B[33mlib\u001B[39m\u001B[33m\"\u001B[39m):\n",
      "\u001B[36mFile \u001B[39m\u001B[32m~\\PycharmProjects\\ReteaSociala\\.venv\\Lib\\site-packages\\pyvis\\network.py:479\u001B[39m, in \u001B[36mNetwork.generate_html\u001B[39m\u001B[34m(self, name, local, notebook)\u001B[39m\n\u001B[32m    476\u001B[39m \u001B[38;5;28;01melse\u001B[39;00m:\n\u001B[32m    477\u001B[39m     physics_enabled = \u001B[38;5;28mself\u001B[39m.options.physics.enabled\n\u001B[32m--> \u001B[39m\u001B[32m479\u001B[39m \u001B[38;5;28mself\u001B[39m.html = \u001B[43mtemplate\u001B[49m\u001B[43m.\u001B[49m\u001B[43mrender\u001B[49m(height=height,\n\u001B[32m    480\u001B[39m                             width=width,\n\u001B[32m    481\u001B[39m                             nodes=nodes,\n\u001B[32m    482\u001B[39m                             edges=edges,\n\u001B[32m    483\u001B[39m                             heading=heading,\n\u001B[32m    484\u001B[39m                             options=options,\n\u001B[32m    485\u001B[39m                             physics_enabled=physics_enabled,\n\u001B[32m    486\u001B[39m                             use_DOT=\u001B[38;5;28mself\u001B[39m.use_DOT,\n\u001B[32m    487\u001B[39m                             dot_lang=\u001B[38;5;28mself\u001B[39m.dot_lang,\n\u001B[32m    488\u001B[39m                             widget=\u001B[38;5;28mself\u001B[39m.widget,\n\u001B[32m    489\u001B[39m                             bgcolor=\u001B[38;5;28mself\u001B[39m.bgcolor,\n\u001B[32m    490\u001B[39m                             conf=\u001B[38;5;28mself\u001B[39m.conf,\n\u001B[32m    491\u001B[39m                             tooltip_link=use_link_template,\n\u001B[32m    492\u001B[39m                             neighborhood_highlight=\u001B[38;5;28mself\u001B[39m.neighborhood_highlight,\n\u001B[32m    493\u001B[39m                             select_menu=\u001B[38;5;28mself\u001B[39m.select_menu,\n\u001B[32m    494\u001B[39m                             filter_menu=\u001B[38;5;28mself\u001B[39m.filter_menu,\n\u001B[32m    495\u001B[39m                             notebook=notebook,\n\u001B[32m    496\u001B[39m                             cdn_resources=\u001B[38;5;28mself\u001B[39m.cdn_resources\n\u001B[32m    497\u001B[39m                             )\n\u001B[32m    498\u001B[39m \u001B[38;5;28;01mreturn\u001B[39;00m \u001B[38;5;28mself\u001B[39m.html\n",
      "\u001B[31mAttributeError\u001B[39m: 'NoneType' object has no attribute 'render'"
     ]
    }
   ],
   "source": [
    "from pyvis.network import Network\n",
    "import networkx as nx\n",
    "\n",
    "# Creează graful\n",
    "G = nx.Graph()\n",
    "G.add_nodes_from(range(1, 11))\n",
    "G.add_edges_from([(1,2), (2,3), (3,4), (5,6)])\n",
    "\n",
    "# Creează rețea interactivă\n",
    "net = Network(notebook=False, height='750px', width='100%', bgcolor='#ffffff', font_color='black')\n",
    "\n",
    "# Adaugă graful NetworkX\n",
    "net.from_nx(G)\n",
    "\n",
    "# Activează opțiuni de tragere\n",
    "net.toggle_physics(True)\n",
    "\n",
    "# Exportă și deschide în browser\n",
    "net.show(\"grafic_interactiv.html\")"
   ],
   "metadata": {
    "collapsed": false,
    "ExecuteTime": {
     "end_time": "2025-10-15T11:39:01.910798Z",
     "start_time": "2025-10-15T11:39:01.119321Z"
    }
   },
   "id": "22f2b4e945aa74bb",
   "execution_count": 5
  },
  {
   "cell_type": "code",
   "outputs": [
    {
     "data": {
      "text/plain": "<IPython.lib.display.IFrame at 0x18ea324df70>",
      "text/html": "\n        <iframe\n            width=\"100%\"\n            height=\"650\"\n            src=\"http://127.0.0.1:8050/\"\n            frameborder=\"0\"\n            allowfullscreen\n            \n        ></iframe>\n        "
     },
     "metadata": {},
     "output_type": "display_data"
    }
   ],
   "source": [
    "import dash\n",
    "from dash import html, dcc, Input, Output, State\n",
    "import dash_cytoscape as cyto\n",
    "\n",
    "# --- Inițializare aplicație Dash ---\n",
    "app = dash.Dash(__name__)\n",
    "\n",
    "# Elemente inițiale (goale)\n",
    "initial_nodes = []\n",
    "initial_edges = []\n",
    "\n",
    "# Stil pentru noduri și muchii\n",
    "stylesheet = [\n",
    "    {\n",
    "        \"selector\": \"node\",\n",
    "        \"style\": {\n",
    "            \"content\": \"data(label)\",\n",
    "            \"text-valign\": \"center\",\n",
    "            \"color\": \"black\",\n",
    "            \"background-color\": \"#74b9ff\",\n",
    "            \"width\": \"50px\",\n",
    "            \"height\": \"50px\",\n",
    "            \"font-size\": \"16px\",\n",
    "            \"border-width\": \"2px\",\n",
    "            \"border-color\": \"#0984e3\",\n",
    "        },\n",
    "    },\n",
    "    {\n",
    "        \"selector\": \"edge\",\n",
    "        \"style\": {\n",
    "            \"width\": 3,\n",
    "            \"line-color\": \"#636e72\",\n",
    "            \"target-arrow-color\": \"#636e72\",\n",
    "            \"target-arrow-shape\": \"triangle\",\n",
    "            \"curve-style\": \"bezier\",\n",
    "        },\n",
    "    },\n",
    "]\n",
    "\n",
    "# --- Layout aplicație ---\n",
    "app.layout = html.Div([\n",
    "    html.H2(\"Rețea socială interactivă\", style={\"textAlign\": \"center\"}),\n",
    "\n",
    "    html.Div([\n",
    "        html.Div([\n",
    "            html.Label(\"Număr de noduri:\"),\n",
    "            dcc.Input(id=\"numar-noduri\", type=\"number\", min=1, placeholder=\"ex: 10\"),\n",
    "            html.Button(\"Generează noduri\", id=\"btn-genereaza\", n_clicks=0),\n",
    "        ], style={\"margin-bottom\": \"10px\"}),\n",
    "\n",
    "        html.Div([\n",
    "            html.Label(\"Adaugă legătură (de la nodul X la Y):\"),\n",
    "            dcc.Input(id=\"nod1\", type=\"number\", min=1, placeholder=\"Nod sursă\"),\n",
    "            dcc.Input(id=\"nod2\", type=\"number\", min=1, placeholder=\"Nod destinație\"),\n",
    "            html.Button(\"Adaugă legătură\", id=\"btn-legatura\", n_clicks=0),\n",
    "        ])\n",
    "    ], style={\"textAlign\": \"center\"}),\n",
    "\n",
    "    cyto.Cytoscape(\n",
    "        id=\"grafic\",\n",
    "        layout={\"name\": \"cose\"},  # Layout fizic (mutabil cu mouse-ul)\n",
    "        style={\"width\": \"100%\", \"height\": \"600px\", \"background-color\": \"#f5f6fa\"},\n",
    "        elements=initial_nodes + initial_edges,\n",
    "        stylesheet=stylesheet,\n",
    "        userZoomingEnabled=True,\n",
    "        userPanningEnabled=True,\n",
    "        responsive=True,\n",
    "    ),\n",
    "])\n",
    "\n",
    "# --- Callback pentru generarea nodurilor ---\n",
    "@app.callback(\n",
    "    Output(\"grafic\", \"elements\"),\n",
    "    Input(\"btn-genereaza\", \"n_clicks\"),\n",
    "    State(\"numar-noduri\", \"value\"),\n",
    "    State(\"grafic\", \"elements\"),\n",
    "    prevent_initial_call=True\n",
    ")\n",
    "def genereaza_noduri(n_clicks, numar, elements):\n",
    "    if not numar:\n",
    "        return elements\n",
    "    nodes = [{\"data\": {\"id\": str(i), \"label\": str(i)}} for i in range(1, numar + 1)]\n",
    "    return nodes  # Fără muchii inițial\n",
    "\n",
    "# --- Callback pentru adăugarea de legături ---\n",
    "@app.callback(\n",
    "    Output(\"grafic\", \"elements\", allow_duplicate=True),\n",
    "    Input(\"btn-legatura\", \"n_clicks\"),\n",
    "    State(\"nod1\", \"value\"),\n",
    "    State(\"nod2\", \"value\"),\n",
    "    State(\"grafic\", \"elements\"),\n",
    "    prevent_initial_call=True\n",
    ")\n",
    "def adauga_legatura(n_clicks, n1, n2, elements):\n",
    "    if not n1 or not n2:\n",
    "        return elements\n",
    "    new_edge = {\"data\": {\"source\": str(n1), \"target\": str(n2)}}\n",
    "    # Evităm duplicarea muchiilor\n",
    "    if new_edge not in elements:\n",
    "        elements.append(new_edge)\n",
    "    return elements\n",
    "\n",
    "# --- Rulează aplicația ---\n",
    "if __name__ == \"__main__\":\n",
    "    app.run(debug=True)\n"
   ],
   "metadata": {
    "collapsed": false,
    "ExecuteTime": {
     "end_time": "2025-10-15T11:46:52.260221Z",
     "start_time": "2025-10-15T11:46:52.182583Z"
    }
   },
   "id": "a5bbb04c73edb576",
   "execution_count": 9
  },
  {
   "cell_type": "markdown",
   "source": [
    "# Construirea grafului"
   ],
   "metadata": {
    "collapsed": false
   },
   "id": "e0e70afdd6bef00c"
  },
  {
   "cell_type": "code",
   "outputs": [
    {
     "name": "stderr",
     "output_type": "stream",
     "text": [
      "C:\\Users\\ASUS\\PycharmProjects\\ReteaSociala\\.venv\\Lib\\site-packages\\dash\\dash.py:634: UserWarning:\n",
      "\n",
      "JupyterDash is deprecated, use Dash instead.\n",
      "See https://dash.plotly.com/dash-in-jupyter for more details.\n",
      "\n"
     ]
    },
    {
     "data": {
      "text/plain": "<IPython.lib.display.IFrame at 0x1f15733ddf0>",
      "text/html": "\n        <iframe\n            width=\"100%\"\n            height=\"650\"\n            src=\"http://127.0.0.1:8050/\"\n            frameborder=\"0\"\n            allowfullscreen\n            \n        ></iframe>\n        "
     },
     "metadata": {},
     "output_type": "display_data"
    }
   ],
   "source": [
    "from jupyter_dash import JupyterDash\n",
    "from dash import html, dcc, Input, Output, State\n",
    "import dash_cytoscape as cyto\n",
    "import json\n",
    "\n",
    "# Aplicația Dash\n",
    "app = JupyterDash(__name__)\n",
    "\n",
    "# Elemente inițiale goale\n",
    "initial_nodes = []\n",
    "initial_edges = []\n",
    "\n",
    "# Stil noduri/muchii\n",
    "stylesheet = [\n",
    "    {\"selector\": \"node\",\n",
    "     \"style\": {\"content\": \"data(label)\", \"text-valign\": \"center\", \"color\": \"white\",\n",
    "               \"background-color\": \"#74b9ff\", \"width\": \"50px\", \"height\": \"50px\", \"font-size\": \"16px\"}},\n",
    "    {\"selector\": \"edge\",\n",
    "     \"style\": {\"width\": 2, \"line-color\": \"#636e72\", \"target-arrow-color\": \"#636e72\",\n",
    "               \"target-arrow-shape\": \"triangle\", \"curve-style\": \"bezier\"}}\n",
    "]\n",
    "\n",
    "# Layout Dash\n",
    "app.layout = html.Div([\n",
    "    html.H2(\"Rețea socială interactivă\", style={\"textAlign\": \"center\"}),\n",
    "\n",
    "    html.Div([\n",
    "        html.Div([\n",
    "            html.Label(\"Număr de noduri:\"),\n",
    "            dcc.Input(id=\"numar-noduri\", type=\"number\", min=1, placeholder=\"ex: 10\"),\n",
    "            html.Button(\"Generează noduri\", id=\"btn-genereaza\", n_clicks=0),\n",
    "        ], style={\"margin-bottom\": \"10px\"}),\n",
    "\n",
    "        html.Div([\n",
    "            html.Label(\"Adaugă legătură (de la nodul X la Y):\"),\n",
    "            dcc.Input(id=\"nod1\", type=\"number\", min=1, placeholder=\"Nod sursă\"),\n",
    "            dcc.Input(id=\"nod2\", type=\"number\", min=1, placeholder=\"Nod destinație\"),\n",
    "            html.Button(\"Adaugă legătură\", id=\"btn-legatura\", n_clicks=0),\n",
    "        ])\n",
    "    ], style={\"textAlign\": \"center\"}),\n",
    "\n",
    "    cyto.Cytoscape(\n",
    "        id=\"grafic\",\n",
    "        layout={\"name\": \"cose\"},\n",
    "        style={\"width\": \"100%\", \"height\": \"500px\"},\n",
    "        elements=initial_nodes + initial_edges,\n",
    "        stylesheet=stylesheet,\n",
    "    ),\n",
    "\n",
    "    html.Button(\"Salvează rețeaua\", id=\"btn-salveaza\", n_clicks=0),\n",
    "    html.Div(id=\"salvare-mesaj\", style={\"margin-top\": \"10px\", \"color\": \"green\"})\n",
    "])\n",
    "\n",
    "# --- Callback generare noduri ---\n",
    "@app.callback(\n",
    "    Output(\"grafic\", \"elements\"),\n",
    "    Input(\"btn-genereaza\", \"n_clicks\"),\n",
    "    State(\"numar-noduri\", \"value\"),\n",
    "    prevent_initial_call=True\n",
    ")\n",
    "def genereaza_noduri(n_clicks, numar):\n",
    "    if not numar or numar < 1:\n",
    "        return []\n",
    "    nodes = [{\"data\": {\"id\": str(i), \"label\": str(i)}} for i in range(1, numar + 1)]\n",
    "    return nodes\n",
    "\n",
    "# --- Callback adaugare legături ---\n",
    "@app.callback(\n",
    "    Output(\"grafic\", \"elements\", allow_duplicate=True),\n",
    "    Input(\"btn-legatura\", \"n_clicks\"),\n",
    "    State(\"nod1\", \"value\"),\n",
    "    State(\"nod2\", \"value\"),\n",
    "    State(\"grafic\", \"elements\"),\n",
    "    prevent_initial_call=True\n",
    ")\n",
    "def adauga_legatura(n_clicks, n1, n2, elements):\n",
    "    if not n1 or not n2:\n",
    "        return elements\n",
    "    new_edge = {\"data\": {\"source\": str(n1), \"target\": str(n2)}}\n",
    "    if new_edge not in elements:\n",
    "        elements.append(new_edge)\n",
    "    return elements\n",
    "\n",
    "# --- Callback salvare ---\n",
    "saved_elements = []  # variabilă globală\n",
    "@app.callback(\n",
    "    Output(\"salvare-mesaj\", \"children\"),\n",
    "    Input(\"btn-salveaza\", \"n_clicks\"),\n",
    "    State(\"grafic\", \"elements\"),\n",
    "    prevent_initial_call=True\n",
    ")\n",
    "def salveaza_retea(n_clicks, elements):\n",
    "    global saved_elements\n",
    "    saved_elements = elements  # salvăm pentru analiza ulterioară\n",
    "    return \"Rețeaua a fost salvată cu succes!\"\n",
    "\n",
    "app.run(mode=\"inline\")"
   ],
   "metadata": {
    "collapsed": false,
    "ExecuteTime": {
     "end_time": "2025-10-15T15:47:51.336312Z",
     "start_time": "2025-10-15T15:47:50.463098Z"
    }
   },
   "id": "16fb9919dde3071c",
   "execution_count": 5
  },
  {
   "cell_type": "markdown",
   "source": [
    "# Analiza retelei(graphului)"
   ],
   "metadata": {
    "collapsed": false
   },
   "id": "e633e88ddc78345b"
  },
  {
   "cell_type": "code",
   "outputs": [
    {
     "name": "stdout",
     "output_type": "stream",
     "text": [
      "Număr noduri: 16\n",
      "Număr muchii: 5\n",
      "Centralitate de grad: {'1': 0.06666666666666667, '2': 0.13333333333333333, '3': 0.13333333333333333, '4': 0.06666666666666667, '5': 0.0, '6': 0.0, '7': 0.0, '8': 0.06666666666666667, '9': 0.13333333333333333, '10': 0.06666666666666667, '11': 0.0, '12': 0.0, '13': 0.0, '14': 0.0, '15': 0.0, '16': 0.0}\n"
     ]
    },
    {
     "data": {
      "text/plain": "<Figure size 800x600 with 1 Axes>",
      "image/png": "[encoded data removed]"
     },
     "metadata": {},
     "output_type": "display_data"
    }
   ],
   "source": [
    "import networkx as nx\n",
    "import matplotlib.pyplot as plt\n",
    "import community as community_louvain  # pentru detectare comunități\n",
    "\n",
    "# Construim graful\n",
    "G = nx.DiGraph()  # sau nx.Graph() dacă e neorientat\n",
    "\n",
    "# Adăugăm noduri\n",
    "for el in saved_elements:\n",
    "    if \"source\" not in el[\"data\"]:\n",
    "        G.add_node(el[\"data\"][\"id\"], label=el[\"data\"][\"label\"])\n",
    "\n",
    "# Adăugăm muchii\n",
    "for el in saved_elements:\n",
    "    if \"source\" in el[\"data\"]:\n",
    "        G.add_edge(el[\"data\"][\"source\"], el[\"data\"][\"target\"])\n",
    "\n",
    "# --- Analitice ---\n",
    "print(\"Număr noduri:\", G.number_of_nodes())\n",
    "print(\"Număr muchii:\", G.number_of_edges())\n",
    "\n",
    "# Centralitate de grad\n",
    "deg_cent = nx.degree_centrality(G)\n",
    "print(\"Centralitate de grad:\", deg_cent)\n",
    "\n",
    "# Coeficient de clustering\n",
    "if not G.is_directed():\n",
    "    clustering = nx.clustering(G)\n",
    "    print(\"Coeficient de clustering:\", clustering)\n",
    "\n",
    "# Detectare comunități (Louvain)\n",
    "if not G.is_directed():\n",
    "    partition = community_louvain.best_partition(G)\n",
    "    print(\"Comunități (nod: comunitate):\", partition)\n",
    "\n",
    "# --- Vizualizare grafic ---\n",
    "plt.figure(figsize=(8,6))\n",
    "pos = nx.spring_layout(G, seed=42)\n",
    "nx.draw(G, pos, with_labels=True, node_size=[500*deg_cent[n] for n in G.nodes()],\n",
    "        node_color=[deg_cent[n] for n in G.nodes()], cmap=plt.cm.coolwarm)\n",
    "plt.show()"
   ],
   "metadata": {
    "collapsed": false,
    "ExecuteTime": {
     "end_time": "2025-10-15T15:48:40.802190Z",
     "start_time": "2025-10-15T15:48:40.701093Z"
    }
   },
   "id": "5d5943946f99656c",
   "execution_count": 7
  },
  {
   "cell_type": "markdown",
   "source": [
    "# Varianta a analizei cu graf orientat + graf neorientat"
   ],
   "metadata": {
    "collapsed": false
   },
   "id": "11a06e7dce009814"
  },
  {
   "cell_type": "code",
   "outputs": [
    {
     "name": "stdout",
     "output_type": "stream",
     "text": [
      "Număr noduri: 16\n",
      "Număr muchii: 5\n",
      "Centralitate de grad: {'1': 0.06666666666666667, '2': 0.13333333333333333, '3': 0.13333333333333333, '4': 0.06666666666666667, '5': 0.0, '6': 0.0, '7': 0.0, '8': 0.06666666666666667, '9': 0.13333333333333333, '10': 0.06666666666666667, '11': 0.0, '12': 0.0, '13': 0.0, '14': 0.0, '15': 0.0, '16': 0.0}\n",
      "Coeficient de clustering: {'1': 0, '2': 0, '3': 0, '4': 0, '5': 0, '6': 0, '7': 0, '8': 0, '9': 0, '10': 0, '11': 0, '12': 0, '13': 0, '14': 0, '15': 0, '16': 0}\n",
      "Comunități (nod: comunitate): {'1': 1, '2': 1, '3': 1, '4': 1, '5': 2, '6': 3, '7': 4, '8': 5, '9': 5, '10': 5, '11': 6, '12': 7, '13': 8, '14': 9, '15': 10, '16': 0}\n"
     ]
    },
    {
     "data": {
      "text/plain": "<Figure size 800x600 with 1 Axes>",
      "image/png": "[encoded data removed]"
     },
     "metadata": {},
     "output_type": "display_data"
    }
   ],
   "source": [
    "import networkx as nx\n",
    "import matplotlib.pyplot as plt\n",
    "import community as community_louvain  # pentru detectare comunități\n",
    "\n",
    "# --- Construim graful orientat ---\n",
    "G_orientat = nx.DiGraph()\n",
    "\n",
    "# Adăugăm noduri\n",
    "for el in saved_elements:\n",
    "    if \"source\" not in el[\"data\"]:\n",
    "        G_orientat.add_node(el[\"data\"][\"id\"], label=el[\"data\"][\"label\"])\n",
    "\n",
    "# Adăugăm muchii\n",
    "for el in saved_elements:\n",
    "    if \"source\" in el[\"data\"]:\n",
    "        G_orientat.add_edge(el[\"data\"][\"source\"], el[\"data\"][\"target\"])\n",
    "\n",
    "# --- Analitice care merg pe graf orientat ---\n",
    "print(\"Număr noduri:\", G_orientat.number_of_nodes())\n",
    "print(\"Număr muchii:\", G_orientat.number_of_edges())\n",
    "\n",
    "# Centralitate de grad (inclusiv pentru graf orientat)\n",
    "deg_cent = nx.degree_centrality(G_orientat)\n",
    "print(\"Centralitate de grad:\", deg_cent)\n",
    "\n",
    "# --- Creăm o copie neorientată pentru metrici care necesită graf neorientat ---\n",
    "G_neorientat = G_orientat.to_undirected()\n",
    "\n",
    "# Coeficient de clustering\n",
    "clustering = nx.clustering(G_neorientat)\n",
    "print(\"Coeficient de clustering:\", clustering)\n",
    "\n",
    "# Detectare comunități (Louvain)\n",
    "partition = community_louvain.best_partition(G_neorientat)\n",
    "print(\"Comunități (nod: comunitate):\", partition)\n",
    "\n",
    "# --- Vizualizare grafic ---\n",
    "plt.figure(figsize=(8,6))\n",
    "pos = nx.spring_layout(G_orientat, seed=42)  # folosește orientatul pentru layout\n",
    "nx.draw(G_orientat, pos, with_labels=True,\n",
    "        node_size=[500*deg_cent[n] for n in G_orientat.nodes()],\n",
    "        node_color=[deg_cent[n] for n in G_orientat.nodes()],\n",
    "        cmap=plt.cm.coolwarm)\n",
    "plt.show()"
   ],
   "metadata": {
    "collapsed": false,
    "ExecuteTime": {
     "end_time": "2025-10-15T15:48:57.135200Z",
     "start_time": "2025-10-15T15:48:57.042253Z"
    }
   },
   "id": "61694a2b07be7c85",
   "execution_count": 8
  }
 ],
 "metadata": {
  "kernelspec": {
   "display_name": "Python 3",
   "language": "python",
   "name": "python3"
  },
  "language_info": {
   "codemirror_mode": {
    "name": "ipython",
    "version": 2
   },
   "file_extension": ".py",
   "mimetype": "text/x-python",
   "name": "python",
   "nbconvert_exporter": "python",
   "pygments_lexer": "ipython2",
   "version": "2.7.6"
  }
 },
 "nbformat": 4,
 "nbformat_minor": 5
}
